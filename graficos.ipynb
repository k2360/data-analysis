[https://nbviewer.org/github/k2360/data-analysis/blob/main/projeto.ipynb](URL)
